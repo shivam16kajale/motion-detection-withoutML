{
 "cells": [
  {
   "cell_type": "markdown",
   "id": "9da7a89c-370e-4ce5-8ea5-555108c70ed0",
   "metadata": {},
   "source": [
    "----------------------------------"
   ]
  },
  {
   "cell_type": "code",
   "execution_count": 3,
   "id": "b502ca85-8b3b-4b21-8b07-4913c897b287",
   "metadata": {},
   "outputs": [],
   "source": [
    "import cv2"
   ]
  },
  {
   "cell_type": "code",
   "execution_count": 44,
   "id": "6e231e60-747a-49ef-b8b5-e89bf40e1fe7",
   "metadata": {},
   "outputs": [],
   "source": [
    "vid = cv2.VideoCapture(r\"C:\\Users\\SHIVAM\\Downloads\\6387-191695740_medium.mp4\")\n",
    "\n",
    "s,f1=vid.read()\n",
    "s,f2=vid.read()\n",
    "\n",
    "\n",
    "while True:\n",
    "    frame = cv2.absdiff(f1,f2)\n",
    "\n",
    "    gray = cv2.cvtColor(frame,cv2.COLOR_BGR2GRAY)\n",
    "\n",
    "    blur = cv2.GaussianBlur(gray,(7,7),1)\n",
    "\n",
    "    canny = cv2.Canny(blur,30,70)\n",
    "    dilated = cv2.dilate(canny, None, iterations=5)\n",
    "    c,h = cv2.findContours(dilated,cv2.RETR_EXTERNAL,cv2.CHAIN_APPROX_NONE)\n",
    "    \n",
    "    for i,c1 in enumerate(c):\n",
    "        area = cv2.contourArea(c1)\n",
    "        if area < 1000: \n",
    "            continue\n",
    "        x,y,w,h=cv2.boundingRect(c1)\n",
    "        cv2.rectangle(f1,(x,y),(x+w,y+h),(0,255,0),2)\n",
    "\n",
    "    cv2.imshow(\"video\",f1)\n",
    "\n",
    "    f1=f2\n",
    "    s,f2=vid.read()\n",
    "\n",
    "    if not s or cv2.waitKey(10) & 255==ord(\"q\"):\n",
    "       break\n",
    "\n",
    "cv2.destroyAllWindows()"
   ]
  },
  {
   "cell_type": "markdown",
   "id": "170dcae2-938e-4049-a1a4-409d0104a288",
   "metadata": {},
   "source": [
    "------------------------"
   ]
  },
  {
   "cell_type": "code",
   "execution_count": null,
   "id": "557da4d7-eb37-4f1c-b6ce-a6e627e97fef",
   "metadata": {},
   "outputs": [],
   "source": []
  }
 ],
 "metadata": {
  "kernelspec": {
   "display_name": "Python 3 (ipykernel)",
   "language": "python",
   "name": "python3"
  },
  "language_info": {
   "codemirror_mode": {
    "name": "ipython",
    "version": 3
   },
   "file_extension": ".py",
   "mimetype": "text/x-python",
   "name": "python",
   "nbconvert_exporter": "python",
   "pygments_lexer": "ipython3",
   "version": "3.12.7"
  }
 },
 "nbformat": 4,
 "nbformat_minor": 5
}
